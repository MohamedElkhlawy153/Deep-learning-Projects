{
 "cells": [
  {
   "cell_type": "code",
   "execution_count": 3,
   "id": "93998950-8d39-4e81-b9af-ac561224c8f7",
   "metadata": {},
   "outputs": [
    {
     "name": "stdout",
     "output_type": "stream",
     "text": [
      "Collecting textblob\n",
      "  Downloading textblob-0.18.0.post0-py3-none-any.whl.metadata (4.5 kB)\n",
      "Requirement already satisfied: nltk>=3.8 in f:\\anaconda\\lib\\site-packages (from textblob) (3.8.1)\n",
      "Requirement already satisfied: click in f:\\anaconda\\lib\\site-packages (from nltk>=3.8->textblob) (8.1.7)\n",
      "Requirement already satisfied: joblib in f:\\anaconda\\lib\\site-packages (from nltk>=3.8->textblob) (1.4.2)\n",
      "Requirement already satisfied: regex>=2021.8.3 in f:\\anaconda\\lib\\site-packages (from nltk>=3.8->textblob) (2023.10.3)\n",
      "Requirement already satisfied: tqdm in f:\\anaconda\\lib\\site-packages (from nltk>=3.8->textblob) (4.66.4)\n",
      "Requirement already satisfied: colorama in f:\\anaconda\\lib\\site-packages (from click->nltk>=3.8->textblob) (0.4.6)\n",
      "Downloading textblob-0.18.0.post0-py3-none-any.whl (626 kB)\n",
      "   ---------------------------------------- 0.0/626.3 kB ? eta -:--:--\n",
      "    --------------------------------------- 10.2/626.3 kB ? eta -:--:--\n",
      "    --------------------------------------- 10.2/626.3 kB ? eta -:--:--\n",
      "   -- ------------------------------------ 41.0/626.3 kB 388.9 kB/s eta 0:00:02\n",
      "   --- ----------------------------------- 61.4/626.3 kB 465.5 kB/s eta 0:00:02\n",
      "   ------ ------------------------------- 102.4/626.3 kB 587.0 kB/s eta 0:00:01\n",
      "   --------- ---------------------------- 153.6/626.3 kB 610.0 kB/s eta 0:00:01\n",
      "   ----------- -------------------------- 184.3/626.3 kB 654.4 kB/s eta 0:00:01\n",
      "   -------------- ----------------------- 235.5/626.3 kB 719.7 kB/s eta 0:00:01\n",
      "   ----------------- -------------------- 286.7/626.3 kB 768.0 kB/s eta 0:00:01\n",
      "   ---------------------- --------------- 368.6/626.3 kB 880.6 kB/s eta 0:00:01\n",
      "   -------------------------- ----------- 430.1/626.3 kB 924.8 kB/s eta 0:00:01\n",
      "   ----------------------------- -------- 481.3/626.3 kB 942.1 kB/s eta 0:00:01\n",
      "   ---------------------------------- --- 563.2/626.3 kB 982.2 kB/s eta 0:00:01\n",
      "   ---------------------------------------- 626.3/626.3 kB 1.0 MB/s eta 0:00:00\n",
      "Installing collected packages: textblob\n",
      "Successfully installed textblob-0.18.0.post0\n"
     ]
    }
   ],
   "source": [
    "!pip install textblob"
   ]
  },
  {
   "cell_type": "code",
   "execution_count": 7,
   "id": "2dbd242d-0263-4728-83f5-ecf7384f1973",
   "metadata": {},
   "outputs": [
    {
     "name": "stdout",
     "output_type": "stream",
     "text": [
      "Overwriting auto_correction_app.py\n"
     ]
    }
   ],
   "source": [
    "%%writefile auto_correction_app.py\n",
    "import streamlit as st\n",
    "from textblob import TextBlob\n",
    "\n",
    "st.title('Text Auto_Correction Application')\n",
    "\n",
    "#text area\n",
    "text = st.text_area('Enter the text to Correct here..', height=120)\n",
    "\n",
    "#define a function for auto correction\n",
    "def correct_text(text):\n",
    "    model = TextBlob(text)\n",
    "    #correct text\n",
    "    corrected_text = model.correct()\n",
    "    return str(corrected_text)\n",
    "# make button to call function to correct text\n",
    "if st.button('Correct Text'):\n",
    "    if text:\n",
    "        # call function to correct text\n",
    "        st.write(correct_text(text))\n",
    "    else:\n",
    "        st.write('please, write any text to correct')\n"
   ]
  }
 ],
 "metadata": {
  "kernelspec": {
   "display_name": "Python 3 (ipykernel)",
   "language": "python",
   "name": "python3"
  },
  "language_info": {
   "codemirror_mode": {
    "name": "ipython",
    "version": 3
   },
   "file_extension": ".py",
   "mimetype": "text/x-python",
   "name": "python",
   "nbconvert_exporter": "python",
   "pygments_lexer": "ipython3",
   "version": "3.12.4"
  }
 },
 "nbformat": 4,
 "nbformat_minor": 5
}
