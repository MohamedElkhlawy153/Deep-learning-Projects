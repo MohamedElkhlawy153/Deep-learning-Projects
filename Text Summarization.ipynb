{
 "cells": [
  {
   "cell_type": "code",
   "execution_count": 9,
   "id": "70d6b65f-39d9-4089-9608-5b7c85e69761",
   "metadata": {},
   "outputs": [
    {
     "name": "stdout",
     "output_type": "stream",
     "text": [
      "Collecting sumy\n",
      "  Using cached sumy-0.11.0-py2.py3-none-any.whl.metadata (7.5 kB)\n",
      "Collecting docopt<0.7,>=0.6.1 (from sumy)\n",
      "  Using cached docopt-0.6.2.tar.gz (25 kB)\n",
      "  Preparing metadata (setup.py): started\n",
      "  Preparing metadata (setup.py): finished with status 'done'\n",
      "Collecting breadability>=0.1.20 (from sumy)\n",
      "  Downloading breadability-0.1.20.tar.gz (32 kB)\n",
      "  Preparing metadata (setup.py): started\n",
      "  Preparing metadata (setup.py): finished with status 'done'\n",
      "Requirement already satisfied: requests>=2.7.0 in f:\\anaconda\\lib\\site-packages (from sumy) (2.32.2)\n",
      "Collecting pycountry>=18.2.23 (from sumy)\n",
      "  Downloading pycountry-24.6.1-py3-none-any.whl.metadata (12 kB)\n",
      "Collecting nltk>=3.0.2 (from sumy)\n",
      "  Downloading nltk-3.9.1-py3-none-any.whl.metadata (2.9 kB)\n",
      "Requirement already satisfied: chardet in f:\\anaconda\\lib\\site-packages (from breadability>=0.1.20->sumy) (4.0.0)\n",
      "Requirement already satisfied: lxml>=2.0 in f:\\anaconda\\lib\\site-packages (from breadability>=0.1.20->sumy) (5.2.1)\n",
      "Requirement already satisfied: click in f:\\anaconda\\lib\\site-packages (from nltk>=3.0.2->sumy) (8.1.7)\n",
      "Requirement already satisfied: joblib in f:\\anaconda\\lib\\site-packages (from nltk>=3.0.2->sumy) (1.4.2)\n",
      "Requirement already satisfied: regex>=2021.8.3 in f:\\anaconda\\lib\\site-packages (from nltk>=3.0.2->sumy) (2023.10.3)\n",
      "Requirement already satisfied: tqdm in f:\\anaconda\\lib\\site-packages (from nltk>=3.0.2->sumy) (4.66.4)\n",
      "Requirement already satisfied: charset-normalizer<4,>=2 in f:\\anaconda\\lib\\site-packages (from requests>=2.7.0->sumy) (2.0.4)\n",
      "Requirement already satisfied: idna<4,>=2.5 in f:\\anaconda\\lib\\site-packages (from requests>=2.7.0->sumy) (3.7)\n",
      "Requirement already satisfied: urllib3<3,>=1.21.1 in f:\\anaconda\\lib\\site-packages (from requests>=2.7.0->sumy) (2.2.2)\n",
      "Requirement already satisfied: certifi>=2017.4.17 in f:\\anaconda\\lib\\site-packages (from requests>=2.7.0->sumy) (2024.8.30)\n",
      "Requirement already satisfied: colorama in f:\\anaconda\\lib\\site-packages (from click->nltk>=3.0.2->sumy) (0.4.6)\n",
      "Downloading sumy-0.11.0-py2.py3-none-any.whl (97 kB)\n",
      "   ---------------------------------------- 0.0/97.3 kB ? eta -:--:--\n",
      "   ------------ --------------------------- 30.7/97.3 kB 1.4 MB/s eta 0:00:01\n",
      "   ------------------------------------- -- 92.2/97.3 kB 1.3 MB/s eta 0:00:01\n",
      "   ---------------------------------------- 97.3/97.3 kB 926.5 kB/s eta 0:00:00\n",
      "Downloading nltk-3.9.1-py3-none-any.whl (1.5 MB)\n",
      "   ---------------------------------------- 0.0/1.5 MB ? eta -:--:--\n",
      "   - -------------------------------------- 0.1/1.5 MB 3.2 MB/s eta 0:00:01\n",
      "   --- ------------------------------------ 0.1/1.5 MB 1.4 MB/s eta 0:00:01\n",
      "   ---- ----------------------------------- 0.2/1.5 MB 1.2 MB/s eta 0:00:02\n",
      "   -------- ------------------------------- 0.3/1.5 MB 1.6 MB/s eta 0:00:01\n",
      "   ----------- ---------------------------- 0.5/1.5 MB 2.0 MB/s eta 0:00:01\n",
      "   --------------- ------------------------ 0.6/1.5 MB 2.2 MB/s eta 0:00:01\n",
      "   ------------------- -------------------- 0.7/1.5 MB 2.2 MB/s eta 0:00:01\n",
      "   ----------------------- ---------------- 0.9/1.5 MB 2.4 MB/s eta 0:00:01\n",
      "   -------------------------- ------------- 1.0/1.5 MB 2.3 MB/s eta 0:00:01\n",
      "   ---------------------------- ----------- 1.1/1.5 MB 2.3 MB/s eta 0:00:01\n",
      "   --------------------------------- ------ 1.3/1.5 MB 2.5 MB/s eta 0:00:01\n",
      "   ------------------------------------ --- 1.4/1.5 MB 2.4 MB/s eta 0:00:01\n",
      "   ---------------------------------------  1.5/1.5 MB 2.5 MB/s eta 0:00:01\n",
      "   ---------------------------------------- 1.5/1.5 MB 2.3 MB/s eta 0:00:00\n",
      "Downloading pycountry-24.6.1-py3-none-any.whl (6.3 MB)\n",
      "   ---------------------------------------- 0.0/6.3 MB ? eta -:--:--\n",
      "    --------------------------------------- 0.1/6.3 MB 2.8 MB/s eta 0:00:03\n",
      "   - -------------------------------------- 0.3/6.3 MB 3.1 MB/s eta 0:00:02\n",
      "   -- ------------------------------------- 0.4/6.3 MB 3.1 MB/s eta 0:00:02\n",
      "   --- ------------------------------------ 0.6/6.3 MB 3.3 MB/s eta 0:00:02\n",
      "   ---- ----------------------------------- 0.7/6.3 MB 3.6 MB/s eta 0:00:02\n",
      "   ----- ---------------------------------- 0.8/6.3 MB 3.0 MB/s eta 0:00:02\n",
      "   ------ --------------------------------- 1.0/6.3 MB 2.9 MB/s eta 0:00:02\n",
      "   ------ --------------------------------- 1.1/6.3 MB 2.9 MB/s eta 0:00:02\n",
      "   ------- -------------------------------- 1.2/6.3 MB 2.9 MB/s eta 0:00:02\n",
      "   -------- ------------------------------- 1.4/6.3 MB 2.9 MB/s eta 0:00:02\n",
      "   --------- ------------------------------ 1.6/6.3 MB 3.1 MB/s eta 0:00:02\n",
      "   ---------- ----------------------------- 1.7/6.3 MB 3.1 MB/s eta 0:00:02\n",
      "   ----------- ---------------------------- 1.8/6.3 MB 3.0 MB/s eta 0:00:02\n",
      "   ------------ --------------------------- 2.0/6.3 MB 3.1 MB/s eta 0:00:02\n",
      "   ------------- -------------------------- 2.1/6.3 MB 3.1 MB/s eta 0:00:02\n",
      "   -------------- ------------------------- 2.3/6.3 MB 3.1 MB/s eta 0:00:02\n",
      "   --------------- ------------------------ 2.4/6.3 MB 3.1 MB/s eta 0:00:02\n",
      "   ---------------- ----------------------- 2.6/6.3 MB 3.1 MB/s eta 0:00:02\n",
      "   ----------------- ---------------------- 2.7/6.3 MB 3.1 MB/s eta 0:00:02\n",
      "   ------------------ --------------------- 2.9/6.3 MB 3.1 MB/s eta 0:00:02\n",
      "   ------------------- -------------------- 3.0/6.3 MB 3.1 MB/s eta 0:00:02\n",
      "   -------------------- ------------------- 3.2/6.3 MB 3.1 MB/s eta 0:00:02\n",
      "   -------------------- ------------------- 3.3/6.3 MB 3.1 MB/s eta 0:00:01\n",
      "   --------------------- ------------------ 3.5/6.3 MB 3.1 MB/s eta 0:00:01\n",
      "   ---------------------- ----------------- 3.6/6.3 MB 3.1 MB/s eta 0:00:01\n",
      "   ------------------------ --------------- 3.8/6.3 MB 3.2 MB/s eta 0:00:01\n",
      "   ------------------------ --------------- 3.9/6.3 MB 3.1 MB/s eta 0:00:01\n",
      "   ------------------------- -------------- 4.1/6.3 MB 3.2 MB/s eta 0:00:01\n",
      "   -------------------------- ------------- 4.2/6.3 MB 3.1 MB/s eta 0:00:01\n",
      "   --------------------------- ------------ 4.3/6.3 MB 3.2 MB/s eta 0:00:01\n",
      "   ---------------------------- ----------- 4.5/6.3 MB 3.1 MB/s eta 0:00:01\n",
      "   ----------------------------- ---------- 4.7/6.3 MB 3.2 MB/s eta 0:00:01\n",
      "   ------------------------------ --------- 4.8/6.3 MB 3.1 MB/s eta 0:00:01\n",
      "   ------------------------------- -------- 4.9/6.3 MB 3.1 MB/s eta 0:00:01\n",
      "   ------------------------------- -------- 5.0/6.3 MB 3.1 MB/s eta 0:00:01\n",
      "   -------------------------------- ------- 5.2/6.3 MB 3.1 MB/s eta 0:00:01\n",
      "   ---------------------------------- ----- 5.4/6.3 MB 3.2 MB/s eta 0:00:01\n",
      "   ----------------------------------- ---- 5.6/6.3 MB 3.2 MB/s eta 0:00:01\n",
      "   ----------------------------------- ---- 5.7/6.3 MB 3.1 MB/s eta 0:00:01\n",
      "   ------------------------------------ --- 5.8/6.3 MB 3.1 MB/s eta 0:00:01\n",
      "   ------------------------------------- -- 5.9/6.3 MB 3.2 MB/s eta 0:00:01\n",
      "   -------------------------------------- - 6.0/6.3 MB 3.1 MB/s eta 0:00:01\n",
      "   ---------------------------------------  6.2/6.3 MB 3.1 MB/s eta 0:00:01\n",
      "   ---------------------------------------  6.3/6.3 MB 3.1 MB/s eta 0:00:01\n",
      "   ---------------------------------------- 6.3/6.3 MB 3.0 MB/s eta 0:00:00\n",
      "Building wheels for collected packages: breadability, docopt\n",
      "  Building wheel for breadability (setup.py): started\n",
      "  Building wheel for breadability (setup.py): finished with status 'done'\n",
      "  Created wheel for breadability: filename=breadability-0.1.20-py2.py3-none-any.whl size=21739 sha256=7fd1d830b8254ca9decf5f56b264d270ade0d737402ccec7b6623dd90b1de4ef\n",
      "  Stored in directory: c:\\users\\elkhlawy\\appdata\\local\\pip\\cache\\wheels\\32\\99\\64\\59305409cacd03aa03e7bddf31a9db34b1fa7033bd41972662\n",
      "  Building wheel for docopt (setup.py): started\n",
      "  Building wheel for docopt (setup.py): finished with status 'done'\n",
      "  Created wheel for docopt: filename=docopt-0.6.2-py2.py3-none-any.whl size=13773 sha256=f62ba0daaf19892daba4d9bea1f5b9ffcd4a5236eb692f32ae5a8d4baee9662a\n",
      "  Stored in directory: c:\\users\\elkhlawy\\appdata\\local\\pip\\cache\\wheels\\1a\\bf\\a1\\4cee4f7678c68c5875ca89eaccf460593539805c3906722228\n",
      "Successfully built breadability docopt\n",
      "Installing collected packages: docopt, pycountry, breadability, nltk, sumy\n",
      "Successfully installed breadability-0.1.20 docopt-0.6.2 nltk-3.9.1 pycountry-24.6.1 sumy-0.11.0\n"
     ]
    }
   ],
   "source": [
    "!pip install sumy"
   ]
  },
  {
   "cell_type": "code",
   "execution_count": 37,
   "id": "5a89bd35-e503-4fe3-8050-a608826aa5c9",
   "metadata": {},
   "outputs": [
    {
     "name": "stderr",
     "output_type": "stream",
     "text": [
      "[nltk_data] Downloading package punkt to\n",
      "[nltk_data]     C:\\Users\\Elkhlawy\\AppData\\Roaming\\nltk_data...\n",
      "[nltk_data]   Package punkt is already up-to-date!\n",
      "[nltk_data] Downloading package punkt_tab to\n",
      "[nltk_data]     C:\\Users\\Elkhlawy\\AppData\\Roaming\\nltk_data...\n",
      "[nltk_data]   Unzipping tokenizers\\punkt_tab.zip.\n"
     ]
    },
    {
     "data": {
      "text/plain": [
       "True"
      ]
     },
     "execution_count": 37,
     "metadata": {},
     "output_type": "execute_result"
    }
   ],
   "source": [
    "import nltk\n",
    "nltk.download('punkt')\n",
    "nltk.download('punkt_tab')"
   ]
  },
  {
   "cell_type": "code",
   "execution_count": 53,
   "id": "3cef9a95-2fa7-4be4-9b82-6e73637074ef",
   "metadata": {},
   "outputs": [
    {
     "name": "stdout",
     "output_type": "stream",
     "text": [
      "Overwriting TextSummarization.py\n"
     ]
    }
   ],
   "source": [
    "%%writefile TextSummarization.py\n",
    "import streamlit as st\n",
    "from sumy.parsers.plaintext import PlaintextParser # pass text\n",
    "from sumy.nlp.tokenizers import Tokenizer\n",
    "from sumy.summarizers.lsa import LsaSummarizer\n",
    "from sumy.summarizers.luhn import LuhnSummarizer\n",
    "from sumy.summarizers.lex_rank import LexRankSummarizer\n",
    "from sumy.summarizers.text_rank import TextRankSummarizer\n",
    "\n",
    "\n",
    "st.title('Text Summarization Application')\n",
    "\n",
    "text = st.text_area('Please, Enter a Text To summarize..', height = 150)\n",
    "\n",
    "summarizer_type = st.selectbox('Choose Summarizer Type', ('LSA', 'LUHN', 'LexRank', 'TextRank'))\n",
    "\n",
    "sentence_count = st.slider('Number of Sentences', 1, 10, 5) # start, end, deafualt\n",
    "\n",
    "#define function for 4 diffarent Summarizer types\n",
    "def Summarize_Text(text, summarizer_type = 'LSA', sentence_count = 5):\n",
    "    #pass text with language\n",
    "    parser = PlaintextParser.from_string(text, Tokenizer('arabic')) #pass text in english\n",
    "\n",
    "    if summarizer_type == 'LSA':\n",
    "        summarizer = LsaSummarizer()\n",
    "    elif summarizer_type == 'LUHN': \n",
    "        summarizer = LuhnSummarizer()\n",
    "    elif summarizer_type == 'LexRank':   \n",
    "        summarizer = LexRankSummarizer()\n",
    "    elif summarizer_type == 'TextRank': \n",
    "        summarizer = TextRankSummarizer()\n",
    "    # Summarize the text\n",
    "    summary = summarizer(parser.document, sentence_count)  \n",
    "    \n",
    "    return ' '.join(str(sentence) for sentence in summary) #join words to be sentence\n",
    "\n",
    "if st.button('Summarize Text'):\n",
    "    if text:\n",
    "        summary = Summarize_Text(text, summarizer_type, sentence_count)\n",
    "        st.subheader('Text Summary')\n",
    "        st.write(summary)\n",
    "    else:\n",
    "        st.write('Please, Enter a Text To Summarize')"
   ]
  },
  {
   "cell_type": "code",
   "execution_count": 51,
   "id": "091b61be-9a88-4c5a-9397-1f182f08d9cd",
   "metadata": {},
   "outputs": [
    {
     "name": "stdout",
     "output_type": "stream",
     "text": [
      "Requirement already satisfied: pyarabic in f:\\anaconda\\lib\\site-packages (0.6.15)\n",
      "Requirement already satisfied: six>=1.14.0 in f:\\anaconda\\lib\\site-packages (from pyarabic) (1.16.0)\n"
     ]
    }
   ],
   "source": [
    "!pip install pyarabic    # for arabic language"
   ]
  }
 ],
 "metadata": {
  "kernelspec": {
   "display_name": "Python 3 (ipykernel)",
   "language": "python",
   "name": "python3"
  },
  "language_info": {
   "codemirror_mode": {
    "name": "ipython",
    "version": 3
   },
   "file_extension": ".py",
   "mimetype": "text/x-python",
   "name": "python",
   "nbconvert_exporter": "python",
   "pygments_lexer": "ipython3",
   "version": "3.12.4"
  }
 },
 "nbformat": 4,
 "nbformat_minor": 5
}
