{
 "cells": [
  {
   "cell_type": "code",
   "execution_count": 1,
   "id": "eec90c91-cbc6-4c8a-98f9-39214f369ba5",
   "metadata": {},
   "outputs": [],
   "source": [
    "!pip install -q mediapipe"
   ]
  },
  {
   "cell_type": "code",
   "execution_count": 7,
   "id": "4b466083-f94c-4535-b4de-16fd749300c0",
   "metadata": {},
   "outputs": [
    {
     "name": "stdout",
     "output_type": "stream",
     "text": [
      "Overwriting ObjectDetection.py\n"
     ]
    }
   ],
   "source": [
    "%%writefile ObjectDetection.py\n",
    "import streamlit as st\n",
    "import numpy as np \n",
    "import cv2\n",
    "import mediapipe as mp\n",
    "from mediapipe.tasks import python\n",
    "from mediapipe.tasks.python import vision\n",
    "\n",
    "st.title('Object Detection Applicatio')\n",
    "uploaded_image = st.file_uploader('Please, Uploade an Image', type=['jpg', 'png', 'jpeg']) \n",
    "\n",
    "\n",
    "# We implemented some functions to visualize the object detection results.\n",
    "MARGIN = 10  # pixels\n",
    "ROW_SIZE = 10  # pixels\n",
    "FONT_SIZE = 1\n",
    "FONT_THICKNESS = 1\n",
    "TEXT_COLOR = (255, 0, 0)  # red\n",
    "\n",
    "\n",
    "def visualize(image, detection_result) -> np.ndarray:\n",
    "  \"\"\"Draws bounding boxes on the input image and return it.\n",
    "  Args:\n",
    "    image: The input RGB image.\n",
    "    detection_result: The list of all \"Detection\" entities to be visualize.\n",
    "  Returns:\n",
    "    Image with bounding boxes.\n",
    "  \"\"\"\n",
    "  for detection in detection_result.detections:\n",
    "    # Draw bounding_box\n",
    "    bbox = detection.bounding_box\n",
    "    start_point = bbox.origin_x, bbox.origin_y\n",
    "    end_point = bbox.origin_x + bbox.width, bbox.origin_y + bbox.height\n",
    "    cv2.rectangle(image, start_point, end_point, TEXT_COLOR, 3)\n",
    "\n",
    "    # Draw label and score\n",
    "    category = detection.categories[0]\n",
    "    category_name = category.category_name\n",
    "    probability = round(category.score, 2)\n",
    "    result_text = category_name + ' (' + str(probability) + ')'\n",
    "    text_location = (MARGIN + bbox.origin_x,\n",
    "                     MARGIN + ROW_SIZE + bbox.origin_y)\n",
    "    cv2.putText(image, result_text, text_location, cv2.FONT_HERSHEY_PLAIN,\n",
    "                FONT_SIZE, TEXT_COLOR, FONT_THICKNESS)\n",
    "\n",
    "  return image\n",
    "\n",
    "# Create an ObjectDetector object.\n",
    "base_options = python.BaseOptions(model_asset_path=r\"D:\\Deep Learning project & tasks\\Notebooks - Deep Learning\\efficientdet_lite0.tflite\")\n",
    "options = vision.ObjectDetectorOptions(base_options=base_options,score_threshold=0.5)\n",
    "detector = vision.ObjectDetector.create_from_options(options)\n",
    "\n",
    "if uploaded_image is not None:\n",
    "    file_bytes = np.asarray(bytearray(uploaded_image.read()), dtype = np.uint8)\n",
    "    img = cv2.imdecode(file_bytes, 1)\n",
    "    img = cv2.cvtColor(img, cv2.COLOR_BGR2RGB)\n",
    "    \n",
    "    st.image(img, \"Uploaded Image\", use_column_width=True)\n",
    "    \n",
    "    mp_image = mp.Image(image_format=mp.ImageFormat.SRGB, data=img)\n",
    "    # Detect objects in the input image.\n",
    "    detection_result = detector.detect(mp_image)\n",
    "    # visualize result\n",
    "    annotated_image = visualize(img, detection_result)\n",
    "    # show image\n",
    "    st.image(annotated_image, use_column_width=True)"
   ]
  }
 ],
 "metadata": {
  "kernelspec": {
   "display_name": "Python 3 (ipykernel)",
   "language": "python",
   "name": "python3"
  },
  "language_info": {
   "codemirror_mode": {
    "name": "ipython",
    "version": 3
   },
   "file_extension": ".py",
   "mimetype": "text/x-python",
   "name": "python",
   "nbconvert_exporter": "python",
   "pygments_lexer": "ipython3",
   "version": "3.12.7"
  }
 },
 "nbformat": 4,
 "nbformat_minor": 5
}
